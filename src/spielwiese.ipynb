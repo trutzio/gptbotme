{
 "cells": [
  {
   "cell_type": "code",
   "execution_count": null,
   "metadata": {},
   "outputs": [],
   "source": [
    "import logging\n",
    "\n",
    "from dotenv import load_dotenv\n",
    "\n",
    "from openai_service import OpenAIService\n",
    "\n",
    "load_dotenv()\n",
    "logging.basicConfig(level=logging.DEBUG)\n",
    "\n",
    "openai_service = OpenAIService()\n",
    "openai_service.answer('Was ist die Homologie von S1?')"
   ]
  },
  {
   "cell_type": "code",
   "execution_count": null,
   "metadata": {},
   "outputs": [],
   "source": [
    "import logging\n",
    "\n",
    "from dotenv import load_dotenv\n",
    "\n",
    "from openai_service import OpenAIService\n",
    "from tweets_stream import TweetsStream\n",
    "\n",
    "load_dotenv()\n",
    "logging.basicConfig(level=logging.DEBUG)\n",
    "\n",
    "openai_service = OpenAIService()\n",
    "answer = openai_service.answer('Erzähle mir bitte eine schöne Geschichte...')\n",
    "\n",
    "tweets_stream = TweetsStream(openai_service=None)\n",
    "tweets_stream.split(answer)\n"
   ]
  },
  {
   "attachments": {},
   "cell_type": "markdown",
   "metadata": {},
   "source": [
    "### main execution"
   ]
  },
  {
   "cell_type": "code",
   "execution_count": null,
   "metadata": {},
   "outputs": [],
   "source": [
    "from dotenv import load_dotenv\n",
    "\n",
    "import gptbotme\n",
    "\n",
    "load_dotenv()\n",
    "gptbotme.main()\n"
   ]
  }
 ],
 "metadata": {
  "kernelspec": {
   "display_name": "Python 3",
   "language": "python",
   "name": "python3"
  },
  "language_info": {
   "codemirror_mode": {
    "name": "ipython",
    "version": 3
   },
   "file_extension": ".py",
   "mimetype": "text/x-python",
   "name": "python",
   "nbconvert_exporter": "python",
   "pygments_lexer": "ipython3",
   "version": "3.10.4"
  },
  "orig_nbformat": 4,
  "vscode": {
   "interpreter": {
    "hash": "edf259275ad4a72d4dd5b452264ad5fb2b635233dff2a31edc6ebc740e55e21b"
   }
  }
 },
 "nbformat": 4,
 "nbformat_minor": 2
}
