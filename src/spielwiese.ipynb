{
 "cells": [
  {
   "cell_type": "code",
   "execution_count": 6,
   "metadata": {},
   "outputs": [
    {
     "ename": "KeyboardInterrupt",
     "evalue": "",
     "output_type": "error",
     "traceback": [
      "\u001b[1;31m---------------------------------------------------------------------------\u001b[0m",
      "\u001b[1;31mKeyboardInterrupt\u001b[0m                         Traceback (most recent call last)",
      "Cell \u001b[1;32mIn [6], line 16\u001b[0m\n\u001b[0;32m     14\u001b[0m start_http_server(\u001b[39m8000\u001b[39m)\n\u001b[0;32m     15\u001b[0m \u001b[39mwhile\u001b[39;00m \u001b[39mTrue\u001b[39;00m:\n\u001b[1;32m---> 16\u001b[0m     process_request(\u001b[39m3\u001b[39m)\n",
      "File \u001b[1;32m<decorator-gen-2>:2\u001b[0m, in \u001b[0;36mprocess_request\u001b[1;34m(t)\u001b[0m\n",
      "File \u001b[1;32mc:\\Users\\chris\\AppData\\Local\\Programs\\Python\\Python310\\lib\\site-packages\\prometheus_client\\context_managers.py:83\u001b[0m, in \u001b[0;36mTimer.__call__.<locals>.wrapped\u001b[1;34m(func, *args, **kwargs)\u001b[0m\n\u001b[0;32m     79\u001b[0m \u001b[39mdef\u001b[39;00m \u001b[39mwrapped\u001b[39m(func, \u001b[39m*\u001b[39margs, \u001b[39m*\u001b[39m\u001b[39m*\u001b[39mkwargs):\n\u001b[0;32m     80\u001b[0m     \u001b[39m# Obtaining new instance of timer every time\u001b[39;00m\n\u001b[0;32m     81\u001b[0m     \u001b[39m# ensures thread safety and reentrancy.\u001b[39;00m\n\u001b[0;32m     82\u001b[0m     \u001b[39mwith\u001b[39;00m \u001b[39mself\u001b[39m\u001b[39m.\u001b[39m_new_timer():\n\u001b[1;32m---> 83\u001b[0m         \u001b[39mreturn\u001b[39;00m func(\u001b[39m*\u001b[39margs, \u001b[39m*\u001b[39m\u001b[39m*\u001b[39mkwargs)\n",
      "Cell \u001b[1;32mIn [6], line 11\u001b[0m, in \u001b[0;36mprocess_request\u001b[1;34m(t)\u001b[0m\n\u001b[0;32m      9\u001b[0m \u001b[39m@REQUEST_TIME\u001b[39m\u001b[39m.\u001b[39mtime()\n\u001b[0;32m     10\u001b[0m \u001b[39mdef\u001b[39;00m \u001b[39mprocess_request\u001b[39m(t):\n\u001b[1;32m---> 11\u001b[0m     time\u001b[39m.\u001b[39;49msleep(t)\n",
      "\u001b[1;31mKeyboardInterrupt\u001b[0m: "
     ]
    }
   ],
   "source": [
    "import time\n",
    "\n",
    "from prometheus_client import Summary, start_http_server\n",
    "\n",
    "REQUEST_TIME = Summary('gptbotme_request_seconds',\n",
    "                       'Time spent processing request')\n",
    "\n",
    "\n",
    "@REQUEST_TIME.time()\n",
    "def process_request(t):\n",
    "    time.sleep(t)\n",
    "\n",
    "\n",
    "start_http_server(8000)\n",
    "while True:\n",
    "    process_request(3)\n"
   ]
  },
  {
   "cell_type": "code",
   "execution_count": null,
   "metadata": {},
   "outputs": [],
   "source": [
    "from dotenv import load_dotenv\n",
    "\n",
    "import gptbotme\n",
    "\n",
    "load_dotenv()\n",
    "gptbotme.main()\n"
   ]
  },
  {
   "cell_type": "code",
   "execution_count": null,
   "metadata": {},
   "outputs": [],
   "source": [
    "import logging\n",
    "\n",
    "from dotenv import load_dotenv\n",
    "\n",
    "from openai_service import OpenAIService\n",
    "from tweets_stream import TweetsStream\n",
    "\n",
    "load_dotenv()\n",
    "logging.basicConfig(level=logging.DEBUG)\n",
    "\n",
    "openai_service = OpenAIService()\n",
    "answer = openai_service.answer('Erzähle mir bitte eine schöne Geschichte...')\n",
    "\n",
    "tweets_stream = TweetsStream(openai_service=None)\n",
    "tweets_stream.split(answer)\n"
   ]
  },
  {
   "cell_type": "code",
   "execution_count": null,
   "metadata": {},
   "outputs": [],
   "source": [
    "import logging\n",
    "\n",
    "from dotenv import load_dotenv\n",
    "\n",
    "from openai_service import OpenAIService\n",
    "\n",
    "load_dotenv()\n",
    "logging.basicConfig(level=logging.DEBUG)\n",
    "\n",
    "openai_service = OpenAIService()\n",
    "openai_service.answer('Wer ist Barack Obama?')"
   ]
  }
 ],
 "metadata": {
  "kernelspec": {
   "display_name": "Python 3",
   "language": "python",
   "name": "python3"
  },
  "language_info": {
   "codemirror_mode": {
    "name": "ipython",
    "version": 3
   },
   "file_extension": ".py",
   "mimetype": "text/x-python",
   "name": "python",
   "nbconvert_exporter": "python",
   "pygments_lexer": "ipython3",
   "version": "3.10.4"
  },
  "orig_nbformat": 4,
  "vscode": {
   "interpreter": {
    "hash": "edf259275ad4a72d4dd5b452264ad5fb2b635233dff2a31edc6ebc740e55e21b"
   }
  }
 },
 "nbformat": 4,
 "nbformat_minor": 2
}
