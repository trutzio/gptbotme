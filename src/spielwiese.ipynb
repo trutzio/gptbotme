{
 "cells": [
  {
   "cell_type": "code",
   "execution_count": null,
   "metadata": {},
   "outputs": [],
   "source": [
    "import time\n",
    "\n",
    "from prometheus_client import Summary, start_http_server\n",
    "\n",
    "REQUEST_TIME = Summary('gptbotme_request_seconds',\n",
    "                       'Time spent processing request')\n",
    "\n",
    "\n",
    "@REQUEST_TIME.time()\n",
    "def process_request(t):\n",
    "    time.sleep(t)\n",
    "\n",
    "\n",
    "start_http_server(8000)\n",
    "while True:\n",
    "    process_request(3)\n"
   ]
  },
  {
   "cell_type": "code",
   "execution_count": null,
   "metadata": {},
   "outputs": [],
   "source": [
    "from dotenv import load_dotenv\n",
    "\n",
    "import gptbotme\n",
    "\n",
    "load_dotenv()\n",
    "gptbotme.main()\n"
   ]
  },
  {
   "cell_type": "code",
   "execution_count": null,
   "metadata": {},
   "outputs": [],
   "source": [
    "import logging\n",
    "\n",
    "from dotenv import load_dotenv\n",
    "\n",
    "from openai_service import OpenAIService\n",
    "from tweets_stream import TweetsStream\n",
    "\n",
    "load_dotenv()\n",
    "logging.basicConfig(level=logging.DEBUG)\n",
    "\n",
    "openai_service = OpenAIService()\n",
    "answer = openai_service.answer('Erzähle mir bitte eine schöne Geschichte...')\n",
    "\n",
    "tweets_stream = TweetsStream(openai_service=None)\n",
    "tweets_stream.split(answer)\n"
   ]
  },
  {
   "cell_type": "code",
   "execution_count": null,
   "metadata": {},
   "outputs": [],
   "source": [
    "import logging\n",
    "\n",
    "from dotenv import load_dotenv\n",
    "\n",
    "from openai_service import OpenAIService\n",
    "\n",
    "load_dotenv()\n",
    "logging.basicConfig(level=logging.DEBUG)\n",
    "\n",
    "openai_service = OpenAIService()\n",
    "openai_service.answer('Wer ist Barack Obama?')"
   ]
  }
 ],
 "metadata": {
  "kernelspec": {
   "display_name": "Python 3",
   "language": "python",
   "name": "python3"
  },
  "language_info": {
   "codemirror_mode": {
    "name": "ipython",
    "version": 3
   },
   "file_extension": ".py",
   "mimetype": "text/x-python",
   "name": "python",
   "nbconvert_exporter": "python",
   "pygments_lexer": "ipython3",
   "version": "3.10.4"
  },
  "orig_nbformat": 4,
  "vscode": {
   "interpreter": {
    "hash": "edf259275ad4a72d4dd5b452264ad5fb2b635233dff2a31edc6ebc740e55e21b"
   }
  }
 },
 "nbformat": 4,
 "nbformat_minor": 2
}
